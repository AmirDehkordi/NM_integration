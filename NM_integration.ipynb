{
 "cells": [
  {
   "cell_type": "markdown",
   "id": "2eb83494",
   "metadata": {},
   "source": [
    "# Integration using Numerical Methods"
   ]
  },
  {
   "cell_type": "markdown",
   "id": "f0806149",
   "metadata": {},
   "source": [
    "The `num_int()` function is designed to compute numerical approximations of definite integrals of a Riemann-integrable function over a given interval `[a, b]`. The function can support various numerical integration methods, namely the left endpoint, right endpoint, midpoint, trapezium, and Simpson's rule. It does this by dividing the interval into `n` equally-spaced subintervals, and then applying the specified numerical integration method. The `part` parameter is an optional sequence specifying a custom partition of the domain.\n",
    "\n",
    "In addition to calculating the integral, this function has robust error checking to ensure that the input parameters are valid and conform to the requirements of the selected numerical integration method. It will raise TypeError or ValueError with an appropriate message if the provided arguments are not suitable. For instance, it will check if 'part' and 'a', 'b', 'n' arguments are defined at the same time, if the provided 'method' is among the supported ones, and if 'n' is a non-negative integer. Furthermore, in the case of the 'trapezium' and 'Simpson' methods, it also checks whether 'n' is at least 2 and even respectively."
   ]
  },
  {
   "cell_type": "code",
   "execution_count": 1,
   "id": "5346bdec",
   "metadata": {},
   "outputs": [],
   "source": [
    "from math import *"
   ]
  },
  {
   "cell_type": "code",
   "execution_count": 2,
   "id": "b5f74d0e",
   "metadata": {},
   "outputs": [],
   "source": [
    "def num_int(f, a=None, b=None, n=None, *, part=None, method):\n",
    "    \"\"\"\n",
    "    Inputs:\n",
    "    f = Riemann integrable function defined on [a, b]\n",
    "    a, b = interval from a to b (a<=b)\n",
    "    n = numbr of evenly-spaced intervals to split [a, b]\n",
    "    part = sequence representing the partition of the domain, a at start\n",
    "            and b at end\n",
    "    method = numerical integration method to be applied using part\n",
    "    Output:\n",
    "    numrical approximation of a Riemann-integrable function on the interval\n",
    "    \"\"\"\n",
    "    \n",
    "    is_part_none = part # Store value for 'Simpson' method\n",
    "    \n",
    "    \n",
    "    # Checking for errors  \n",
    "    if (part or a or b or n) == None: \n",
    "        # If part is defined and any of a, b, n are defined\n",
    "        raise TypeError(\"Argument 'part' or set of 'a', 'b' and 'n' is required!\")\n",
    "        \n",
    "    if (part != None) and ((a != None or b != None or n != None)): \n",
    "        # None of part, a, b, n are defined\n",
    "        raise TypeError(\"Only 'part' or set of 'a', 'b' and 'n' must be provided!\")\n",
    "        \n",
    "    if method not in (\"left\", \"right\", \"midpoint\", \"trapezium\", \"Simpson\"):\n",
    "        # If method is none of left, right, midpoint, trapezium, Simpson\n",
    "        raise TypeError(f\"The method '{method}' is not available!\")\n",
    "    \n",
    "    if part is not None:\n",
    "        if (False in [isinstance(i, (int, float)) for i in part]):\n",
    "            # If the values of the 'part' list is not an integer\n",
    "            raise ValueError(\"The values in 'part' must be integer!\")\n",
    "        else:\n",
    "            a, b, n = part[0], part[-1], len(part)-1 \n",
    "    else:\n",
    "        part = np.linspace(a, b, num=n+1)\n",
    "            \n",
    "    if not (isinstance(n, int) and n>0):\n",
    "        # If the number of subintervals (n or calculated from part) is not a non-negative integer\n",
    "        raise ValueError(\"Number of sub-intervals 'n' should be an integer!\")\n",
    "\n",
    "     \n",
    "    # Methods \n",
    "    if method == \"left\":\n",
    "        return sum([f(part[x-1])*(part[x]-part[x-1])\n",
    "                    for x in range(1, len(part))])\n",
    "        \n",
    "    elif method == \"right\":\n",
    "        return sum([f(part[x])*(part[x]-part[x-1])\n",
    "                    for x in range(1, len(part))])\n",
    "    \n",
    "    elif method == \"midpoint\":\n",
    "        return sum([f((part[x-1]+part[x])/2)*(part[x]-part[x-1])\n",
    "                    for x in range(1, len(part))])\n",
    "\n",
    "    elif method == \"trapezium\":\n",
    "        if n<=2:\n",
    "            # If the number of sub-intervals is not at least 2\n",
    "            raise ValueError(\"The number of sub-intervals in 'trapezium' method must be at least 2!\")\n",
    "        else:\n",
    "            return sum([((f(part[x-1])+f(part[x]))/2)*(part[x]-part[x-1])\n",
    "                        for x in range(1, len(part))])\n",
    "    \n",
    "    elif method == \"Simpson\":\n",
    "        if is_part_none is not None:\n",
    "            # If 'part' is defined\n",
    "            raise TypeError(\"Argument 'part' must not be defined for 'Simpson' method!\")\n",
    "        elif n%2 == 1:\n",
    "            # If the number of sub-invertavls is not even\n",
    "            raise ValueError(\"Number of sub-intervals in the 'Simpson' should be even!\") \n",
    "        else:\n",
    "            return (b-a)/(3*n)*sum([(f(part[2*x-2])+4*f(part[2*x-1])+f(part[2*x]))\n",
    "                        for x in range(1, len(part)//2+1)])\n"
   ]
  },
  {
   "cell_type": "code",
   "execution_count": null,
   "id": "0faf65b0",
   "metadata": {},
   "outputs": [],
   "source": []
  },
  {
   "cell_type": "code",
   "execution_count": null,
   "id": "02157929",
   "metadata": {},
   "outputs": [],
   "source": []
  }
 ],
 "metadata": {
  "kernelspec": {
   "display_name": "Python 3 (ipykernel)",
   "language": "python",
   "name": "python3"
  },
  "language_info": {
   "codemirror_mode": {
    "name": "ipython",
    "version": 3
   },
   "file_extension": ".py",
   "mimetype": "text/x-python",
   "name": "python",
   "nbconvert_exporter": "python",
   "pygments_lexer": "ipython3",
   "version": "3.9.7"
  }
 },
 "nbformat": 4,
 "nbformat_minor": 5
}
